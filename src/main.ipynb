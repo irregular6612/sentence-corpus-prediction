{
 "cells": [
  {
   "cell_type": "code",
   "execution_count": 4,
   "id": "e7d5b9f7",
   "metadata": {},
   "outputs": [],
   "source": [
    "from pathlib import Path\n",
    "import os\n",
    "import pandas as pd\n",
    "import numpy as np"
   ]
  },
  {
   "cell_type": "code",
   "execution_count": 6,
   "id": "7a676021",
   "metadata": {},
   "outputs": [
    {
     "data": {
      "text/html": [
       "<div>\n",
       "<style scoped>\n",
       "    .dataframe tbody tr th:only-of-type {\n",
       "        vertical-align: middle;\n",
       "    }\n",
       "\n",
       "    .dataframe tbody tr th {\n",
       "        vertical-align: top;\n",
       "    }\n",
       "\n",
       "    .dataframe thead th {\n",
       "        text-align: right;\n",
       "    }\n",
       "</style>\n",
       "<table border=\"1\" class=\"dataframe\">\n",
       "  <thead>\n",
       "    <tr style=\"text-align: right;\">\n",
       "      <th></th>\n",
       "      <th>Paragraph_id</th>\n",
       "      <th>Paragraph_text</th>\n",
       "      <th>Paragraph_length</th>\n",
       "      <th>display_font_size(32-in)</th>\n",
       "      <th>display_font_size(27-in)</th>\n",
       "    </tr>\n",
       "  </thead>\n",
       "  <tbody>\n",
       "    <tr>\n",
       "      <th>0</th>\n",
       "      <td>1</td>\n",
       "      <td>멀리 배웅하던 길 여전히 나는 그곳에 서서 그대가 사랑한 이  계절의 오고 감을 봅...</td>\n",
       "      <td>NaN</td>\n",
       "      <td>NaN</td>\n",
       "      <td>NaN</td>\n",
       "    </tr>\n",
       "  </tbody>\n",
       "</table>\n",
       "</div>"
      ],
      "text/plain": [
       "   Paragraph_id                                     Paragraph_text  \\\n",
       "0             1  멀리 배웅하던 길 여전히 나는 그곳에 서서 그대가 사랑한 이  계절의 오고 감을 봅...   \n",
       "\n",
       "   Paragraph_length  display_font_size(32-in)  display_font_size(27-in)  \n",
       "0               NaN                       NaN                       NaN  "
      ]
     },
     "execution_count": 6,
     "metadata": {},
     "output_type": "execute_result"
    }
   ],
   "source": [
    "proj_dir = os.path.join(Path.home(), \"Documents\", \"WorkSpace\", \"sentence-corpus-prediction\")\n",
    "stimuli_path = os.path.join(proj_dir, \"data\", \"stimuli.xlsx\")\n",
    "stimuli = pd.read_excel(stimuli_path)\n",
    "stimuli.head()"
   ]
  },
  {
   "cell_type": "code",
   "execution_count": 9,
   "id": "3f9e38c0",
   "metadata": {},
   "outputs": [
    {
     "data": {
      "text/html": [
       "<div>\n",
       "<style scoped>\n",
       "    .dataframe tbody tr th:only-of-type {\n",
       "        vertical-align: middle;\n",
       "    }\n",
       "\n",
       "    .dataframe tbody tr th {\n",
       "        vertical-align: top;\n",
       "    }\n",
       "\n",
       "    .dataframe thead th {\n",
       "        text-align: right;\n",
       "    }\n",
       "</style>\n",
       "<table border=\"1\" class=\"dataframe\">\n",
       "  <thead>\n",
       "    <tr style=\"text-align: right;\">\n",
       "      <th></th>\n",
       "      <th>Paragraph_id</th>\n",
       "      <th>Paragraph_text</th>\n",
       "      <th>Paragraph_length</th>\n",
       "      <th>display_font_size(32-in)</th>\n",
       "      <th>display_font_size(27-in)</th>\n",
       "    </tr>\n",
       "  </thead>\n",
       "  <tbody>\n",
       "    <tr>\n",
       "      <th>0</th>\n",
       "      <td>1</td>\n",
       "      <td>멀리 배웅하던 길 여전히 나는 그곳에 서서 그대가 사랑한 이  계절의 오고 감을 봅...</td>\n",
       "      <td>26</td>\n",
       "      <td>NaN</td>\n",
       "      <td>NaN</td>\n",
       "    </tr>\n",
       "  </tbody>\n",
       "</table>\n",
       "</div>"
      ],
      "text/plain": [
       "   Paragraph_id                                     Paragraph_text  \\\n",
       "0             1  멀리 배웅하던 길 여전히 나는 그곳에 서서 그대가 사랑한 이  계절의 오고 감을 봅...   \n",
       "\n",
       "   Paragraph_length  display_font_size(32-in)  display_font_size(27-in)  \n",
       "0                26                       NaN                       NaN  "
      ]
     },
     "execution_count": 9,
     "metadata": {},
     "output_type": "execute_result"
    }
   ],
   "source": [
    "def length_checker(df: pd.DataFrame):\n",
    "    df[\"Paragraph_length\"] = df[\"Paragraph_text\"].apply(lambda x: len(x.split(\" \")))\n",
    "    return df\n",
    "\n",
    "stimuli = length_checker(stimuli)\n",
    "stimuli"
   ]
  },
  {
   "cell_type": "code",
   "execution_count": 10,
   "id": "b9b4def9",
   "metadata": {},
   "outputs": [
    {
     "name": "stdout",
     "output_type": "stream",
     "text": [
      "사용 가능한 한글 폰트: ['AppleMyungjo', 'Tsukushi B Round Gothic', 'Apple Braille', 'Apple Symbols', 'Apple Braille', 'Apple LiGothic', 'Nanum Myeongjo', 'Toppan Bunkyu Midashi Gothic', 'Apple Braille', 'Tsukushi A Round Gothic', 'Toppan Bunkyu Gothic', 'Hiragino Maru Gothic Pro', 'Nanum Gothic', 'Apple LiSung', 'YuGothic', 'Nanum Brush Script', 'AppleGothic', 'Apple Braille', 'Apple Chancery', 'BIZ UDGothic', 'Apple SD Gothic Neo', 'Noto Sans Gothic', 'Apple Braille', 'YuGothic']\n"
     ]
    }
   ],
   "source": [
    "from psychopy import visual\n",
    "import matplotlib.font_manager as fm\n",
    "\n",
    "# 시스템에 설치된 폰트 확인\n",
    "fonts = [f.name for f in fm.fontManager.ttflist]\n",
    "korean_fonts = [f for f in fonts if any(char in f for char in ['Gothic', 'Gulim', 'Nanum', 'Apple'])]\n",
    "print(\"사용 가능한 한글 폰트:\", korean_fonts)"
   ]
  },
  {
   "cell_type": "code",
   "execution_count": null,
   "id": "df8c4b46",
   "metadata": {},
   "outputs": [],
   "source": []
  }
 ],
 "metadata": {
  "kernelspec": {
   "display_name": ".venv",
   "language": "python",
   "name": "python3"
  },
  "language_info": {
   "codemirror_mode": {
    "name": "ipython",
    "version": 3
   },
   "file_extension": ".py",
   "mimetype": "text/x-python",
   "name": "python",
   "nbconvert_exporter": "python",
   "pygments_lexer": "ipython3",
   "version": "3.10.17"
  }
 },
 "nbformat": 4,
 "nbformat_minor": 5
}
